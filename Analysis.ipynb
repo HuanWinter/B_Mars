{
 "cells": [
  {
   "cell_type": "code",
   "execution_count": 1,
   "id": "c905617b",
   "metadata": {},
   "outputs": [
    {
     "name": "stdout",
     "output_type": "stream",
     "text": [
      "the shape of sza: (9419,)\n",
      "the shape of altitude: (9419,)\n",
      "the shape of pred: (9419,)\n",
      "the shape of Y: (9419,)\n"
     ]
    }
   ],
   "source": [
    "import h5py\n",
    "import numpy as np\n",
    "from scipy.io import readsav\n",
    "\n",
    "save_h5 = 'Res/results_2016case.h5'\n",
    "# save_h5 = 'Res/results_2016case_withupstream.h5'\n",
    "figname = 'Figs/sza_vs_alt_2016case.png'\n",
    "\n",
    "# N = 9234250\n",
    "\n",
    "with h5py.File(save_h5, 'r') as f:\n",
    "    \n",
    "    pred = np.sqrt(np.mean(np.array(f['Y_pred_MLP'])**2, axis=1))\n",
    "    Y = np.sqrt(np.mean(np.array(f['Y'])**2, axis=1))\n",
    "    X = np.array(f['X'])\n",
    "    leng = np.array(f['len']).astype(int)\n",
    "\n",
    "filename = 'Mars.save'\n",
    "data = readsav(filename)\n",
    "\n",
    "############## denormalize & retrieve ####################\n",
    "alt_mean = data['altitude'].flatten().mean()\n",
    "alt_std = data['altitude'].flatten().std()\n",
    "altitude = X[:, 11] * alt_std + alt_mean\n",
    "sza = np.rad2deg(np.arccos(X[:, 10].flatten()))\n",
    "\n",
    "print('the shape of sza: {}'.format(sza.shape))\n",
    "print('the shape of altitude: {}'.format(altitude.shape))\n",
    "print('the shape of pred: {}'.format(pred.shape))\n",
    "print('the shape of Y: {}'.format(Y.shape))\n",
    "\n",
    "\n"
   ]
  },
  {
   "cell_type": "code",
   "execution_count": null,
   "id": "6b2d811c",
   "metadata": {},
   "outputs": [
    {
     "ename": "NameError",
     "evalue": "name 'plot_prediction_comparison' is not defined",
     "output_type": "error",
     "traceback": [
      "\u001b[0;31m---------------------------------------------------------------------------\u001b[0m",
      "\u001b[0;31mNameError\u001b[0m                                 Traceback (most recent call last)",
      "Cell \u001b[0;32mIn[2], line 15\u001b[0m\n\u001b[1;32m      3\u001b[0m idx \u001b[38;5;241m=\u001b[39m np\u001b[38;5;241m.\u001b[39mwhere(altitude\u001b[38;5;241m<\u001b[39m\u001b[38;5;241m2500\u001b[39m)[\u001b[38;5;241m0\u001b[39m]\n\u001b[1;32m      5\u001b[0m \u001b[38;5;66;03m# plot_dual_binned_prediction_contour(\u001b[39;00m\n\u001b[1;32m      6\u001b[0m \u001b[38;5;66;03m#     sza = sza, \u001b[39;00m\n\u001b[1;32m      7\u001b[0m \u001b[38;5;66;03m#     altitude = altitude, \u001b[39;00m\n\u001b[0;32m   (...)\u001b[0m\n\u001b[1;32m     12\u001b[0m \u001b[38;5;66;03m#     figname = 'Figs/B1_sza_vs_alt.png',\u001b[39;00m\n\u001b[1;32m     13\u001b[0m \u001b[38;5;66;03m#     )\u001b[39;00m\n\u001b[0;32m---> 15\u001b[0m \u001b[43mplot_prediction_comparison\u001b[49m(\n\u001b[1;32m     16\u001b[0m     \u001b[38;5;66;03m# pred=pred,\u001b[39;00m\n\u001b[1;32m     17\u001b[0m     \u001b[38;5;66;03m# Y=Y,\u001b[39;00m\n\u001b[1;32m     18\u001b[0m     pred\u001b[38;5;241m=\u001b[39mpred[\u001b[38;5;241m3500\u001b[39m:\u001b[38;5;241m4500\u001b[39m],\n\u001b[1;32m     19\u001b[0m     Y\u001b[38;5;241m=\u001b[39mY[\u001b[38;5;241m3500\u001b[39m:\u001b[38;5;241m4500\u001b[39m],\n\u001b[1;32m     20\u001b[0m     bins\u001b[38;5;241m=\u001b[39m\u001b[38;5;241m50\u001b[39m,\n\u001b[1;32m     21\u001b[0m     figname\u001b[38;5;241m=\u001b[39m\u001b[38;5;124m'\u001b[39m\u001b[38;5;124mFigs/B1_pred_vs_true.png\u001b[39m\u001b[38;5;124m'\u001b[39m\n\u001b[1;32m     22\u001b[0m )\n",
      "\u001b[0;31mNameError\u001b[0m: name 'plot_prediction_comparison' is not defined"
     ]
    }
   ],
   "source": [
    "from funs import plot_dual_binned_prediction_contour, plot_prediction_comparison\n",
    "\n",
    "idx = np.where(altitude<2500)[0]\n",
    "\n",
    "# plot_dual_binned_prediction_contour(\n",
    "#     sza = sza, \n",
    "#     altitude = altitude, \n",
    "#     predict = pred,\n",
    "#     measure = Y,\n",
    "#     idx_sel=idx,\n",
    "#     bins=50,\n",
    "#     figname = 'Figs/B1_sza_vs_alt.png',\n",
    "#     )\n",
    "\n",
    "plot_prediction_comparison(\n",
    "    # pred=pred,\n",
    "    # Y=Y,\n",
    "    pred=pred[3500:4500],\n",
    "    Y=Y[3500:4500],\n",
    "    bins=50,\n",
    "    figname='Figs/B1_pred_vs_true.png'\n",
    ")"
   ]
  },
  {
   "cell_type": "code",
   "execution_count": null,
   "id": "8ffbbc87",
   "metadata": {},
   "outputs": [
    {
     "name": "stdout",
     "output_type": "stream",
     "text": [
      "cc of event1/2 is: 0.8096928589026284/0.8662845779078264\n"
     ]
    }
   ],
   "source": [
    "def calculate_correlation(data1, data2):\n",
    "  \"\"\"\n",
    "  Calculates the Pearson correlation coefficient between two datasets.\n",
    "\n",
    "  Args:\n",
    "    data1: A list or numpy array representing the first dataset.\n",
    "    data2: A list or numpy array representing the second dataset.\n",
    "\n",
    "  Returns:\n",
    "    The Pearson correlation coefficient between the two datasets.\n",
    "    Returns None if the datasets are empty or have different lengths.\n",
    "  \"\"\"\n",
    "  return np.corrcoef(data1, data2)[0, 1]\n",
    "\n",
    "correlation_test1 = calculate_correlation(pred[:leng[0]], Y[:leng[0]])\n",
    "correlation_test2 = calculate_correlation(pred[leng[0]:], Y[leng[0]:])\n",
    "print('cc of event1/2 is: {}/{}'.format(correlation_test1, correlation_test2))"
   ]
  },
  {
   "cell_type": "code",
   "execution_count": null,
   "id": "3affc08d",
   "metadata": {},
   "outputs": [
    {
     "data": {
      "text/plain": [
       "(9419,)"
      ]
     },
     "execution_count": 4,
     "metadata": {},
     "output_type": "execute_result"
    }
   ],
   "source": [
    "Y.shape"
   ]
  },
  {
   "cell_type": "code",
   "execution_count": null,
   "id": "9ccdfb9c",
   "metadata": {},
   "outputs": [],
   "source": []
  }
 ],
 "metadata": {
  "kernelspec": {
   "display_name": "pytorch_light",
   "language": "python",
   "name": "python3"
  },
  "language_info": {
   "codemirror_mode": {
    "name": "ipython",
    "version": 3
   },
   "file_extension": ".py",
   "mimetype": "text/x-python",
   "name": "python",
   "nbconvert_exporter": "python",
   "pygments_lexer": "ipython3",
   "version": "3.11.10"
  }
 },
 "nbformat": 4,
 "nbformat_minor": 5
}
